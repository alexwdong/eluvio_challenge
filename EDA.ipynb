{
 "cells": [
  {
   "cell_type": "code",
   "execution_count": 1,
   "id": "confident-south",
   "metadata": {},
   "outputs": [],
   "source": [
    "%load_ext autoreload\n",
    "%autoreload 2"
   ]
  },
  {
   "cell_type": "code",
   "execution_count": 2,
   "id": "exceptional-huntington",
   "metadata": {},
   "outputs": [],
   "source": [
    "import pickle\n",
    "import os\n",
    "import matplotlib.pyplot as plt\n",
    "import numpy as np\n",
    "from scipy.stats import bernoulli\n",
    "import pandas as pd\n",
    "import torch\n",
    "\n",
    "from sklearn.ensemble import RandomForestClassifier\n",
    "from sklearn.linear_model import LogisticRegression\n",
    "from sklearn.model_selection import GridSearchCV\n",
    "from utils import *\n",
    "from src.model import BoundaryDetectorSimple, BoundaryDetectorAttention"
   ]
  },
  {
   "cell_type": "markdown",
   "id": "reduced-delaware",
   "metadata": {},
   "source": [
    "### Define directories"
   ]
  },
  {
   "cell_type": "code",
   "execution_count": 3,
   "id": "attended-domestic",
   "metadata": {},
   "outputs": [],
   "source": [
    "train_dir = '/home/jolteon/eluvio_challenge/data/train/'\n",
    "val_dir = '/home/jolteon/eluvio_challenge/data/val/'\n",
    "test_dir = '/home/jolteon/eluvio_challenge/data/test/'"
   ]
  },
  {
   "cell_type": "markdown",
   "id": "solid-brazilian",
   "metadata": {},
   "source": [
    "# Random Forest Boundary detection"
   ]
  },
  {
   "cell_type": "code",
   "execution_count": null,
   "id": "experimental-presence",
   "metadata": {},
   "outputs": [],
   "source": []
  },
  {
   "cell_type": "code",
   "execution_count": 4,
   "id": "historical-recipe",
   "metadata": {},
   "outputs": [],
   "source": [
    "data_train = make_all_dot_product_features_df(train_dir)\n",
    "data_val =  make_all_dot_product_features_df(test_dir)\n",
    "#Combine, since we are going to do crossval\n",
    "data_train = pd.concat([data_train,data_val])\n",
    "#seperate X,y\n",
    "X_train = data_train[['place_dp','cast_dp','action_dp','audio_dp']]\n",
    "y_train = data_train['boundary_truth']"
   ]
  },
  {
   "cell_type": "code",
   "execution_count": 5,
   "id": "norwegian-updating",
   "metadata": {},
   "outputs": [
    {
     "data": {
      "text/html": [
       "<div>\n",
       "<style scoped>\n",
       "    .dataframe tbody tr th:only-of-type {\n",
       "        vertical-align: middle;\n",
       "    }\n",
       "\n",
       "    .dataframe tbody tr th {\n",
       "        vertical-align: top;\n",
       "    }\n",
       "\n",
       "    .dataframe thead th {\n",
       "        text-align: right;\n",
       "    }\n",
       "</style>\n",
       "<table border=\"1\" class=\"dataframe\">\n",
       "  <thead>\n",
       "    <tr style=\"text-align: right;\">\n",
       "      <th></th>\n",
       "      <th>place_dp</th>\n",
       "      <th>cast_dp</th>\n",
       "      <th>action_dp</th>\n",
       "      <th>audio_dp</th>\n",
       "      <th>boundary_truth</th>\n",
       "    </tr>\n",
       "  </thead>\n",
       "  <tbody>\n",
       "    <tr>\n",
       "      <th>0</th>\n",
       "      <td>91.192154</td>\n",
       "      <td>0.000000</td>\n",
       "      <td>0.000000</td>\n",
       "      <td>0.584730</td>\n",
       "      <td>0</td>\n",
       "    </tr>\n",
       "    <tr>\n",
       "      <th>1</th>\n",
       "      <td>489.716553</td>\n",
       "      <td>0.000000</td>\n",
       "      <td>0.000000</td>\n",
       "      <td>0.231411</td>\n",
       "      <td>0</td>\n",
       "    </tr>\n",
       "    <tr>\n",
       "      <th>2</th>\n",
       "      <td>445.407837</td>\n",
       "      <td>0.000000</td>\n",
       "      <td>0.000000</td>\n",
       "      <td>0.364196</td>\n",
       "      <td>0</td>\n",
       "    </tr>\n",
       "    <tr>\n",
       "      <th>3</th>\n",
       "      <td>292.007690</td>\n",
       "      <td>0.000000</td>\n",
       "      <td>0.000000</td>\n",
       "      <td>0.850917</td>\n",
       "      <td>0</td>\n",
       "    </tr>\n",
       "    <tr>\n",
       "      <th>4</th>\n",
       "      <td>350.747498</td>\n",
       "      <td>0.000000</td>\n",
       "      <td>0.000000</td>\n",
       "      <td>0.737919</td>\n",
       "      <td>0</td>\n",
       "    </tr>\n",
       "    <tr>\n",
       "      <th>...</th>\n",
       "      <td>...</td>\n",
       "      <td>...</td>\n",
       "      <td>...</td>\n",
       "      <td>...</td>\n",
       "      <td>...</td>\n",
       "    </tr>\n",
       "    <tr>\n",
       "      <th>1868</th>\n",
       "      <td>465.193115</td>\n",
       "      <td>1.518258</td>\n",
       "      <td>4138.864258</td>\n",
       "      <td>0.256540</td>\n",
       "      <td>1</td>\n",
       "    </tr>\n",
       "    <tr>\n",
       "      <th>1869</th>\n",
       "      <td>346.203339</td>\n",
       "      <td>0.560668</td>\n",
       "      <td>2765.230713</td>\n",
       "      <td>0.594189</td>\n",
       "      <td>1</td>\n",
       "    </tr>\n",
       "    <tr>\n",
       "      <th>1870</th>\n",
       "      <td>265.108948</td>\n",
       "      <td>0.575942</td>\n",
       "      <td>2732.739258</td>\n",
       "      <td>0.731078</td>\n",
       "      <td>1</td>\n",
       "    </tr>\n",
       "    <tr>\n",
       "      <th>1871</th>\n",
       "      <td>286.565979</td>\n",
       "      <td>0.641870</td>\n",
       "      <td>3133.891602</td>\n",
       "      <td>0.502469</td>\n",
       "      <td>0</td>\n",
       "    </tr>\n",
       "    <tr>\n",
       "      <th>1872</th>\n",
       "      <td>162.490417</td>\n",
       "      <td>0.000000</td>\n",
       "      <td>0.000000</td>\n",
       "      <td>0.483134</td>\n",
       "      <td>1</td>\n",
       "    </tr>\n",
       "  </tbody>\n",
       "</table>\n",
       "<p>93539 rows × 5 columns</p>\n",
       "</div>"
      ],
      "text/plain": [
       "        place_dp   cast_dp    action_dp  audio_dp  boundary_truth\n",
       "0      91.192154  0.000000     0.000000  0.584730               0\n",
       "1     489.716553  0.000000     0.000000  0.231411               0\n",
       "2     445.407837  0.000000     0.000000  0.364196               0\n",
       "3     292.007690  0.000000     0.000000  0.850917               0\n",
       "4     350.747498  0.000000     0.000000  0.737919               0\n",
       "...          ...       ...          ...       ...             ...\n",
       "1868  465.193115  1.518258  4138.864258  0.256540               1\n",
       "1869  346.203339  0.560668  2765.230713  0.594189               1\n",
       "1870  265.108948  0.575942  2732.739258  0.731078               1\n",
       "1871  286.565979  0.641870  3133.891602  0.502469               0\n",
       "1872  162.490417  0.000000     0.000000  0.483134               1\n",
       "\n",
       "[93539 rows x 5 columns]"
      ]
     },
     "execution_count": 5,
     "metadata": {},
     "output_type": "execute_result"
    }
   ],
   "source": [
    "data_train"
   ]
  },
  {
   "cell_type": "markdown",
   "id": "magnetic-mystery",
   "metadata": {},
   "source": [
    "### Easiest Baseline: Logistic Regression Grid on dot product features"
   ]
  },
  {
   "cell_type": "code",
   "execution_count": 6,
   "id": "voluntary-roads",
   "metadata": {},
   "outputs": [
    {
     "name": "stdout",
     "output_type": "stream",
     "text": [
      "CPU times: user 6.41 s, sys: 939 µs, total: 6.41 s\n",
      "Wall time: 6.41 s\n"
     ]
    },
    {
     "data": {
      "text/plain": [
       "GridSearchCV(estimator=LogisticRegression(max_iter=1000),\n",
       "             param_grid={'C': [0.01, 0.1, 0.1, 5, 10, 15, 20]},\n",
       "             scoring='average_precision')"
      ]
     },
     "execution_count": 6,
     "metadata": {},
     "output_type": "execute_result"
    }
   ],
   "source": [
    "%%time\n",
    "param_grid = {'C' : [.01,.1,.1,5,10,15,20]\n",
    "             }\n",
    "clf = GridSearchCV(\n",
    "        LogisticRegression(max_iter=1000),param_grid,scoring='average_precision')\n",
    "clf.fit(X_train, y_train)                 \n"
   ]
  },
  {
   "cell_type": "markdown",
   "id": "utility-business",
   "metadata": {},
   "source": [
    "Fitting an Logistic model is extremely fast"
   ]
  },
  {
   "cell_type": "code",
   "execution_count": 7,
   "id": "welsh-engagement",
   "metadata": {},
   "outputs": [
    {
     "data": {
      "text/plain": [
       "{'mean_fit_time': array([0.16861439, 0.17224422, 0.18458252, 0.18493276, 0.17202072,\n",
       "        0.16369491, 0.159337  ]),\n",
       " 'std_fit_time': array([0.04111839, 0.04607965, 0.06543112, 0.05023923, 0.0319545 ,\n",
       "        0.03295975, 0.03188476]),\n",
       " 'mean_score_time': array([0.0053525 , 0.00531969, 0.00588722, 0.0071476 , 0.00530114,\n",
       "        0.00532899, 0.00520134]),\n",
       " 'std_score_time': array([1.12844398e-04, 2.08141064e-04, 1.28733064e-03, 2.76115696e-03,\n",
       "        9.81238419e-05, 1.20976942e-04, 2.68637545e-05]),\n",
       " 'param_C': masked_array(data=[0.01, 0.1, 0.1, 5, 10, 15, 20],\n",
       "              mask=[False, False, False, False, False, False, False],\n",
       "        fill_value='?',\n",
       "             dtype=object),\n",
       " 'params': [{'C': 0.01},\n",
       "  {'C': 0.1},\n",
       "  {'C': 0.1},\n",
       "  {'C': 5},\n",
       "  {'C': 10},\n",
       "  {'C': 15},\n",
       "  {'C': 20}],\n",
       " 'split0_test_score': array([0.14066426, 0.14109236, 0.14109236, 0.14113767, 0.14113692,\n",
       "        0.14113731, 0.14113739]),\n",
       " 'split1_test_score': array([0.14654727, 0.14638424, 0.14638424, 0.1464069 , 0.14641699,\n",
       "        0.14641342, 0.14641729]),\n",
       " 'split2_test_score': array([0.13928734, 0.13898861, 0.13898861, 0.13902331, 0.13902363,\n",
       "        0.13902378, 0.13902375]),\n",
       " 'split3_test_score': array([0.1463286 , 0.14626913, 0.14626913, 0.14624184, 0.14624219,\n",
       "        0.14623964, 0.14623951]),\n",
       " 'split4_test_score': array([0.14321453, 0.14374871, 0.14374871, 0.14371474, 0.1437145 ,\n",
       "        0.14371406, 0.14371357]),\n",
       " 'mean_test_score': array([0.1432084 , 0.14329661, 0.14329661, 0.14330489, 0.14330685,\n",
       "        0.14330564, 0.1433063 ]),\n",
       " 'std_test_score': array([0.00292339, 0.00289798, 0.00289798, 0.00287906, 0.00288132,\n",
       "        0.00287991, 0.0028807 ]),\n",
       " 'rank_test_score': array([7, 5, 5, 4, 1, 3, 2], dtype=int32)}"
      ]
     },
     "execution_count": 7,
     "metadata": {},
     "output_type": "execute_result"
    }
   ],
   "source": [
    "clf.cv_results_"
   ]
  },
  {
   "cell_type": "code",
   "execution_count": 8,
   "id": "academic-investor",
   "metadata": {},
   "outputs": [
    {
     "name": "stdout",
     "output_type": "stream",
     "text": [
      "LogisticRegression(C=10, max_iter=1000)\n"
     ]
    }
   ],
   "source": [
    "best_model = clf.best_estimator_\n",
    "print(best_model)"
   ]
  },
  {
   "cell_type": "code",
   "execution_count": 10,
   "id": "guilty-country",
   "metadata": {},
   "outputs": [],
   "source": [
    "output_dir = '/home/jolteon/eluvio_challenge/logistic_dot_product/'\n",
    "generate_predictions_dir_LR(best_model,test_dir,output_dir)"
   ]
  },
  {
   "cell_type": "code",
   "execution_count": null,
   "id": "nuclear-coordination",
   "metadata": {},
   "outputs": [],
   "source": []
  },
  {
   "cell_type": "markdown",
   "id": "equipped-mississippi",
   "metadata": {},
   "source": [
    "# Random Forest / Logistic Regression on difference of embeddings features"
   ]
  },
  {
   "cell_type": "code",
   "execution_count": 11,
   "id": "interim-prior",
   "metadata": {},
   "outputs": [],
   "source": [
    "X_train,y_train= make_all_embedding_difference_features_df(train_dir)\n",
    "X_val,y_val =  make_all_embedding_difference_features_df(test_dir)\n",
    "#Combine, since we are going to do crossval\n",
    "#data_train = pd.concat([data_train,data_val])\n",
    "#seperate X,y\n",
    "X = np.vstack([X_train,X_val])\n",
    "y = np.concatenate([y_train,y_val])\n"
   ]
  },
  {
   "cell_type": "code",
   "execution_count": 12,
   "id": "arabic-peeing",
   "metadata": {},
   "outputs": [
    {
     "name": "stdout",
     "output_type": "stream",
     "text": [
      "(93539, 3584)\n",
      "(93539,)\n"
     ]
    }
   ],
   "source": [
    "print(X.shape)\n",
    "print(y.shape)"
   ]
  },
  {
   "cell_type": "code",
   "execution_count": 13,
   "id": "pleased-pavilion",
   "metadata": {},
   "outputs": [
    {
     "name": "stdout",
     "output_type": "stream",
     "text": [
      "CPU times: user 27min 49s, sys: 23 s, total: 28min 12s\n",
      "Wall time: 31min 32s\n"
     ]
    },
    {
     "data": {
      "text/plain": [
       "GridSearchCV(estimator=RandomForestClassifier(n_jobs=12),\n",
       "             param_grid={'max_depth': [10, 20, 30], 'min_samples_leaf': [100],\n",
       "                         'n_estimators': [100]},\n",
       "             scoring='average_precision')"
      ]
     },
     "execution_count": 13,
     "metadata": {},
     "output_type": "execute_result"
    }
   ],
   "source": [
    "%%time\n",
    "param_grid = {'n_estimators': [100],\n",
    "              'min_samples_leaf': [100],\n",
    "              'max_depth': [10,20,30]\n",
    "              }\n",
    "\n",
    "clf = GridSearchCV(\n",
    "        RandomForestClassifier(n_jobs=12),param_grid,scoring='average_precision')\n",
    "clf.fit(X, y)                 \n"
   ]
  },
  {
   "cell_type": "code",
   "execution_count": 14,
   "id": "smaller-newark",
   "metadata": {},
   "outputs": [
    {
     "data": {
      "text/plain": [
       "{'mean_fit_time': array([ 78.32106948, 123.61873899, 147.31787372]),\n",
       " 'std_fit_time': array([5.38901323, 6.8204253 , 3.11310523]),\n",
       " 'mean_score_time': array([0.24950681, 0.32321181, 0.31185203]),\n",
       " 'std_score_time': array([0.04327643, 0.08382156, 0.05364636]),\n",
       " 'param_max_depth': masked_array(data=[10, 20, 30],\n",
       "              mask=[False, False, False],\n",
       "        fill_value='?',\n",
       "             dtype=object),\n",
       " 'param_min_samples_leaf': masked_array(data=[100, 100, 100],\n",
       "              mask=[False, False, False],\n",
       "        fill_value='?',\n",
       "             dtype=object),\n",
       " 'param_n_estimators': masked_array(data=[100, 100, 100],\n",
       "              mask=[False, False, False],\n",
       "        fill_value='?',\n",
       "             dtype=object),\n",
       " 'params': [{'max_depth': 10, 'min_samples_leaf': 100, 'n_estimators': 100},\n",
       "  {'max_depth': 20, 'min_samples_leaf': 100, 'n_estimators': 100},\n",
       "  {'max_depth': 30, 'min_samples_leaf': 100, 'n_estimators': 100}],\n",
       " 'split0_test_score': array([0.24337825, 0.24777856, 0.2536017 ]),\n",
       " 'split1_test_score': array([0.25376409, 0.25667987, 0.26106561]),\n",
       " 'split2_test_score': array([0.22420524, 0.22696644, 0.23049192]),\n",
       " 'split3_test_score': array([0.26624684, 0.27470524, 0.2721027 ]),\n",
       " 'split4_test_score': array([0.26953921, 0.2785937 , 0.2779318 ]),\n",
       " 'mean_test_score': array([0.25142673, 0.25694476, 0.25903874]),\n",
       " 'std_test_score': array([0.01648604, 0.01879841, 0.01659039]),\n",
       " 'rank_test_score': array([3, 2, 1], dtype=int32)}"
      ]
     },
     "execution_count": 14,
     "metadata": {},
     "output_type": "execute_result"
    }
   ],
   "source": [
    "clf.cv_results_"
   ]
  },
  {
   "cell_type": "code",
   "execution_count": 17,
   "id": "governmental-venture",
   "metadata": {},
   "outputs": [],
   "source": [
    "best_model = clf.best_estimator_"
   ]
  },
  {
   "cell_type": "code",
   "execution_count": 18,
   "id": "indoor-reynolds",
   "metadata": {},
   "outputs": [],
   "source": [
    "output_dir = '/home/jolteon/eluvio_challenge/RF_difference_of_features/'\n",
    "generate_predictions_dir_RF(best_model,test_dir,output_dir)"
   ]
  },
  {
   "cell_type": "code",
   "execution_count": null,
   "id": "respective-witness",
   "metadata": {},
   "outputs": [],
   "source": []
  },
  {
   "cell_type": "code",
   "execution_count": null,
   "id": "removable-three",
   "metadata": {},
   "outputs": [],
   "source": []
  },
  {
   "cell_type": "markdown",
   "id": "twelve-robertson",
   "metadata": {},
   "source": [
    "# Check how we did"
   ]
  },
  {
   "cell_type": "code",
   "execution_count": 21,
   "id": "hungry-ebony",
   "metadata": {},
   "outputs": [
    {
     "name": "stdout",
     "output_type": "stream",
     "text": [
      "Mean Transition Percent is: 0.07655792141298438\n"
     ]
    }
   ],
   "source": [
    "!python3 make_baseline.py"
   ]
  },
  {
   "cell_type": "markdown",
   "id": "compatible-window",
   "metadata": {},
   "source": [
    "### Bernoulli random guess for each prediction based on the mean number of boundaries"
   ]
  },
  {
   "cell_type": "code",
   "execution_count": 18,
   "id": "lesbian-characterization",
   "metadata": {},
   "outputs": [
    {
     "name": "stdout",
     "output_type": "stream",
     "text": [
      "# of IMDB IDs: 8\n",
      "Scores: {\n",
      "    \"AP\": 0.0903779250550157,\n",
      "    \"mAP\": 0.09798375588604646,\n",
      "    \"Miou\": 0.30419257642839564,\n",
      "    \"Precision\": 0.0974340223226487,\n",
      "    \"Recall\": 0.07676671243899885,\n",
      "    \"F1\": 0.08329692954096599\n",
      "}\n"
     ]
    }
   ],
   "source": [
    "!python3 evaluate_sceneseg.py baseline_random/"
   ]
  },
  {
   "cell_type": "markdown",
   "id": "recognized-ribbon",
   "metadata": {},
   "source": [
    "### Predictions provided by Eluvio"
   ]
  },
  {
   "cell_type": "code",
   "execution_count": 17,
   "id": "judicial-steps",
   "metadata": {},
   "outputs": [
    {
     "name": "stdout",
     "output_type": "stream",
     "text": [
      "# of IMDB IDs: 8\n",
      "Scores: {\n",
      "    \"AP\": 0.4799354967433886,\n",
      "    \"mAP\": 0.49328420987394367,\n",
      "    \"Miou\": 0.4797450602748557,\n",
      "    \"Precision\": 0.3380879775551314,\n",
      "    \"Recall\": 0.6925031762816138,\n",
      "    \"F1\": 0.44427621620186347\n",
      "}\n"
     ]
    }
   ],
   "source": [
    "!python3 evaluate_sceneseg.py baseline_preliminary/"
   ]
  },
  {
   "cell_type": "markdown",
   "id": "strategic-links",
   "metadata": {},
   "source": [
    "### Logistic Regression, Dot product of features"
   ]
  },
  {
   "cell_type": "code",
   "execution_count": 19,
   "id": "cosmetic-turner",
   "metadata": {},
   "outputs": [
    {
     "name": "stdout",
     "output_type": "stream",
     "text": [
      "# of IMDB IDs: 8\n",
      "evaluate_sceneseg.py:117: RuntimeWarning: invalid value encountered in long_scalars\n",
      "  precision = tps / tp_fp.sum()\n",
      "evaluate_sceneseg.py:132: RuntimeWarning: invalid value encountered in double_scalars\n",
      "  fscore_dict[imdb_id] = 2 * p * r / (p + r)\n",
      "Scores: {\n",
      "    \"AP\": 0.18439897955928014,\n",
      "    \"mAP\": 0.22990494989628843,\n",
      "    \"Miou\": 0.03214543822808406,\n",
      "    \"Precision\": 0.0,\n",
      "    \"Recall\": 0.0,\n",
      "    \"F1\": NaN\n",
      "}\n"
     ]
    }
   ],
   "source": [
    "!python3 evaluate_sceneseg.py logistic_dot_product/"
   ]
  },
  {
   "cell_type": "markdown",
   "id": "noble-anchor",
   "metadata": {},
   "source": [
    "### Random Forest, difference of features"
   ]
  },
  {
   "cell_type": "code",
   "execution_count": 20,
   "id": "civilian-surfing",
   "metadata": {},
   "outputs": [
    {
     "name": "stdout",
     "output_type": "stream",
     "text": [
      "# of IMDB IDs: 8\n",
      "evaluate_sceneseg.py:117: RuntimeWarning: invalid value encountered in long_scalars\n",
      "  precision = tps / tp_fp.sum()\n",
      "evaluate_sceneseg.py:132: RuntimeWarning: invalid value encountered in double_scalars\n",
      "  fscore_dict[imdb_id] = 2 * p * r / (p + r)\n",
      "Scores: {\n",
      "    \"AP\": 0.5492763052324752,\n",
      "    \"mAP\": 0.5733759006116512,\n",
      "    \"Miou\": 0.03214543822808406,\n",
      "    \"Precision\": 0.0,\n",
      "    \"Recall\": 0.0,\n",
      "    \"F1\": NaN\n",
      "}\n"
     ]
    }
   ],
   "source": [
    "!python3 evaluate_sceneseg.py RF_difference_of_features/"
   ]
  },
  {
   "cell_type": "code",
   "execution_count": null,
   "id": "dominican-plenty",
   "metadata": {},
   "outputs": [],
   "source": []
  },
  {
   "cell_type": "code",
   "execution_count": null,
   "id": "southern-picnic",
   "metadata": {},
   "outputs": [],
   "source": []
  },
  {
   "cell_type": "code",
   "execution_count": null,
   "id": "realistic-mission",
   "metadata": {},
   "outputs": [],
   "source": []
  },
  {
   "cell_type": "code",
   "execution_count": null,
   "id": "boring-maine",
   "metadata": {},
   "outputs": [],
   "source": []
  }
 ],
 "metadata": {
  "kernelspec": {
   "display_name": "Python 3",
   "language": "python",
   "name": "python3"
  },
  "language_info": {
   "codemirror_mode": {
    "name": "ipython",
    "version": 3
   },
   "file_extension": ".py",
   "mimetype": "text/x-python",
   "name": "python",
   "nbconvert_exporter": "python",
   "pygments_lexer": "ipython3",
   "version": "3.8.5"
  }
 },
 "nbformat": 4,
 "nbformat_minor": 5
}
