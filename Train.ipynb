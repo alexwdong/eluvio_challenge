{
 "cells": [
  {
   "cell_type": "code",
   "execution_count": 2,
   "id": "scheduled-planet",
   "metadata": {},
   "outputs": [],
   "source": [
    "%load_ext autoreload\n",
    "%autoreload 2"
   ]
  },
  {
   "cell_type": "code",
   "execution_count": 25,
   "id": "national-trademark",
   "metadata": {},
   "outputs": [],
   "source": [
    "import sys\n",
    "import os\n",
    "import collections\n",
    "import pickle\n",
    "import math\n",
    "\n",
    "import numpy as np\n",
    "import torch\n",
    "import torch.nn as nn\n",
    "from torch.utils.data import Dataset, DataLoader,random_split\n",
    "\n",
    "from tqdm.auto import tqdm\n",
    "from IPython.display import Image \n",
    "\n",
    "from src.model import BoundaryDetectorAttention,BoundaryDetectorSimple\n",
    "from src.dataset import MovieDataset\n",
    "from utils import *\n",
    "from evaluate_sceneseg import calc_ap, calc_miou, calc_precision_recall\n",
    "#from pytorch_lightning.callbacks import ModelCheckpoint\n",
    "#import matplotlib.pyplot as plt\n",
    "#from mpl_toolkits.axes_grid1 import ImageGrid"
   ]
  },
  {
   "cell_type": "code",
   "execution_count": 26,
   "id": "previous-neighborhood",
   "metadata": {},
   "outputs": [
    {
     "name": "stdout",
     "output_type": "stream",
     "text": [
      "There are 1 GPU(s) available.\n",
      "We will use the GPU: GeForce RTX 3060 Ti\n"
     ]
    }
   ],
   "source": [
    "if torch.cuda.is_available():\n",
    "\n",
    "    # Tell PyTorch to use the GPU.\n",
    "    device = torch.device(\"cuda\")\n",
    "    \n",
    "    print('There are %d GPU(s) available.' % torch.cuda.device_count())\n",
    "\n",
    "    print('We will use the GPU:', torch.cuda.get_device_name(0))\n",
    "\n",
    "# If not...\n",
    "else:\n",
    "    print('No GPU available, using the CPU instead.')\n",
    "    device = torch.device(\"cpu\")"
   ]
  },
  {
   "cell_type": "code",
   "execution_count": null,
   "id": "covered-struggle",
   "metadata": {},
   "outputs": [],
   "source": []
  },
  {
   "cell_type": "code",
   "execution_count": 27,
   "id": "agricultural-lingerie",
   "metadata": {},
   "outputs": [],
   "source": [
    "#window_size = 10\n",
    "window_size = 12\n",
    "num_epochs = 20\n",
    "model_save_path = '/home/jolteon/eluvio_challenge/models/'\n",
    "model_name = 'Attention_FC'"
   ]
  },
  {
   "cell_type": "code",
   "execution_count": 28,
   "id": "valued-childhood",
   "metadata": {},
   "outputs": [],
   "source": [
    "train_path = '/home/jolteon/eluvio_challenge/data/train/'\n",
    "val_path = '/home/jolteon/eluvio_challenge/data/val/'"
   ]
  },
  {
   "cell_type": "code",
   "execution_count": 30,
   "id": "capable-skating",
   "metadata": {},
   "outputs": [],
   "source": [
    "train_dataset = MovieDataset(train_path,window_size=window_size)\n",
    "train_loader = DataLoader(train_dataset, batch_size = 128, pin_memory=True,num_workers=12)\n"
   ]
  },
  {
   "cell_type": "code",
   "execution_count": null,
   "id": "cellular-monitoring",
   "metadata": {},
   "outputs": [],
   "source": []
  },
  {
   "cell_type": "code",
   "execution_count": 31,
   "id": "billion-liverpool",
   "metadata": {},
   "outputs": [],
   "source": [
    "#print(dataset_length)\n",
    "#print(train_length)\n",
    "#print(val_length)"
   ]
  },
  {
   "cell_type": "code",
   "execution_count": 32,
   "id": "labeled-conservative",
   "metadata": {},
   "outputs": [],
   "source": [
    "#next(iter(train_loader))"
   ]
  },
  {
   "cell_type": "code",
   "execution_count": 33,
   "id": "pediatric-talent",
   "metadata": {},
   "outputs": [],
   "source": [
    "model = BoundaryDetectorAttention(window_size=window_size)\n",
    "optimizer = torch.optim.Adam(model.parameters(), lr=1e-4)\n",
    "model = model.to(device)\n",
    "model.train()\n",
    "\n",
    "criterion = nn.BCELoss()\n",
    "criterion = criterion.to(device)\n"
   ]
  },
  {
   "cell_type": "code",
   "execution_count": 34,
   "id": "prepared-healing",
   "metadata": {},
   "outputs": [
    {
     "name": "stdout",
     "output_type": "stream",
     "text": [
      "num parameters 10001367\n"
     ]
    }
   ],
   "source": [
    "num_param = sum([param.nelement() for param in model.parameters()])\n",
    "print(\"num parameters\",num_param)"
   ]
  },
  {
   "cell_type": "code",
   "execution_count": 37,
   "id": "cooked-rubber",
   "metadata": {},
   "outputs": [
    {
     "data": {
      "application/vnd.jupyter.widget-view+json": {
       "model_id": "3e1e2193346a4b2e9d8b4d7949580112",
       "version_major": 2,
       "version_minor": 0
      },
      "text/plain": [
       "  0%|          | 0/20 [00:00<?, ?it/s]"
      ]
     },
     "metadata": {},
     "output_type": "display_data"
    },
    {
     "name": "stderr",
     "output_type": "stream",
     "text": [
      "\\\\wsl$\\Ubuntu-20.04\\home\\jolteon\\eluvio_challenge\\evaluate_sceneseg.py:117: RuntimeWarning: invalid value encountered in long_scalars\n",
      "  precision = tps / tp_fp.sum()\n",
      "\\\\wsl$\\Ubuntu-20.04\\home\\jolteon\\eluvio_challenge\\evaluate_sceneseg.py:132: RuntimeWarning: invalid value encountered in double_scalars\n",
      "  fscore_dict[imdb_id] = 2 * p * r / (p + r)\n"
     ]
    },
    {
     "name": "stdout",
     "output_type": "stream",
     "text": [
      "[EPOCH]: 0, [TRAIN LOSS]: 0.000295, [TRAIN ACCURACY]: 0.910\n",
      "[EPOCH]: 0, [VAL SCORES]: {'AP': 0.060098466989969256, 'mAP': 0.062450275748646825, 'Miou': 0.033519879802208975, 'Precision': 0.0, 'Recall': 0.0, 'F1': nan} \n",
      "\n"
     ]
    },
    {
     "name": "stderr",
     "output_type": "stream",
     "text": [
      "\\\\wsl$\\Ubuntu-20.04\\home\\jolteon\\eluvio_challenge\\evaluate_sceneseg.py:117: RuntimeWarning: invalid value encountered in long_scalars\n",
      "  precision = tps / tp_fp.sum()\n",
      "\\\\wsl$\\Ubuntu-20.04\\home\\jolteon\\eluvio_challenge\\evaluate_sceneseg.py:132: RuntimeWarning: invalid value encountered in double_scalars\n",
      "  fscore_dict[imdb_id] = 2 * p * r / (p + r)\n"
     ]
    },
    {
     "name": "stdout",
     "output_type": "stream",
     "text": [
      "[EPOCH]: 1, [TRAIN LOSS]: 0.000248, [TRAIN ACCURACY]: 0.927\n",
      "[EPOCH]: 1, [VAL SCORES]: {'AP': 0.1519858472377807, 'mAP': 0.16770740377320764, 'Miou': 0.033519879802208975, 'Precision': 0.0, 'Recall': 0.0, 'F1': nan} \n",
      "\n"
     ]
    },
    {
     "name": "stderr",
     "output_type": "stream",
     "text": [
      "\\\\wsl$\\Ubuntu-20.04\\home\\jolteon\\eluvio_challenge\\evaluate_sceneseg.py:117: RuntimeWarning: invalid value encountered in long_scalars\n",
      "  precision = tps / tp_fp.sum()\n",
      "\\\\wsl$\\Ubuntu-20.04\\home\\jolteon\\eluvio_challenge\\evaluate_sceneseg.py:132: RuntimeWarning: invalid value encountered in double_scalars\n",
      "  fscore_dict[imdb_id] = 2 * p * r / (p + r)\n"
     ]
    },
    {
     "name": "stdout",
     "output_type": "stream",
     "text": [
      "[EPOCH]: 2, [TRAIN LOSS]: 0.000241, [TRAIN ACCURACY]: 0.927\n",
      "[EPOCH]: 2, [VAL SCORES]: {'AP': 0.15891263981944292, 'mAP': 0.17279513981031858, 'Miou': 0.033519879802208975, 'Precision': 0.0, 'Recall': 0.0, 'F1': nan} \n",
      "\n"
     ]
    },
    {
     "name": "stderr",
     "output_type": "stream",
     "text": [
      "\\\\wsl$\\Ubuntu-20.04\\home\\jolteon\\eluvio_challenge\\evaluate_sceneseg.py:132: RuntimeWarning: invalid value encountered in double_scalars\n",
      "  fscore_dict[imdb_id] = 2 * p * r / (p + r)\n",
      "\\\\wsl$\\Ubuntu-20.04\\home\\jolteon\\eluvio_challenge\\evaluate_sceneseg.py:117: RuntimeWarning: invalid value encountered in long_scalars\n",
      "  precision = tps / tp_fp.sum()\n"
     ]
    },
    {
     "name": "stdout",
     "output_type": "stream",
     "text": [
      "[EPOCH]: 3, [TRAIN LOSS]: 0.000238, [TRAIN ACCURACY]: 0.927\n",
      "[EPOCH]: 3, [VAL SCORES]: {'AP': 0.14555164263320206, 'mAP': 0.15930544303597832, 'Miou': 0.06886613214481825, 'Precision': 0.0, 'Recall': 0.0, 'F1': nan} \n",
      "\n"
     ]
    },
    {
     "name": "stderr",
     "output_type": "stream",
     "text": [
      "\\\\wsl$\\Ubuntu-20.04\\home\\jolteon\\eluvio_challenge\\evaluate_sceneseg.py:117: RuntimeWarning: invalid value encountered in long_scalars\n",
      "  precision = tps / tp_fp.sum()\n",
      "\\\\wsl$\\Ubuntu-20.04\\home\\jolteon\\eluvio_challenge\\evaluate_sceneseg.py:132: RuntimeWarning: invalid value encountered in double_scalars\n",
      "  fscore_dict[imdb_id] = 2 * p * r / (p + r)\n"
     ]
    },
    {
     "name": "stdout",
     "output_type": "stream",
     "text": [
      "[EPOCH]: 4, [TRAIN LOSS]: 0.000236, [TRAIN ACCURACY]: 0.927\n",
      "[EPOCH]: 4, [VAL SCORES]: {'AP': 0.1501095057876441, 'mAP': 0.16149062365907224, 'Miou': 0.033519879802208975, 'Precision': 0.0, 'Recall': 0.0, 'F1': nan} \n",
      "\n"
     ]
    },
    {
     "name": "stderr",
     "output_type": "stream",
     "text": [
      "\\\\wsl$\\Ubuntu-20.04\\home\\jolteon\\eluvio_challenge\\evaluate_sceneseg.py:117: RuntimeWarning: invalid value encountered in long_scalars\n",
      "  precision = tps / tp_fp.sum()\n",
      "\\\\wsl$\\Ubuntu-20.04\\home\\jolteon\\eluvio_challenge\\evaluate_sceneseg.py:132: RuntimeWarning: invalid value encountered in double_scalars\n",
      "  fscore_dict[imdb_id] = 2 * p * r / (p + r)\n"
     ]
    },
    {
     "name": "stdout",
     "output_type": "stream",
     "text": [
      "[EPOCH]: 5, [TRAIN LOSS]: 0.000234, [TRAIN ACCURACY]: 0.927\n",
      "[EPOCH]: 5, [VAL SCORES]: {'AP': 0.14142780740175787, 'mAP': 0.1537870750690852, 'Miou': 0.033519879802208975, 'Precision': 0.0, 'Recall': 0.0, 'F1': nan} \n",
      "\n"
     ]
    },
    {
     "name": "stderr",
     "output_type": "stream",
     "text": [
      "\\\\wsl$\\Ubuntu-20.04\\home\\jolteon\\eluvio_challenge\\evaluate_sceneseg.py:132: RuntimeWarning: invalid value encountered in double_scalars\n",
      "  fscore_dict[imdb_id] = 2 * p * r / (p + r)\n",
      "\\\\wsl$\\Ubuntu-20.04\\home\\jolteon\\eluvio_challenge\\evaluate_sceneseg.py:117: RuntimeWarning: invalid value encountered in long_scalars\n",
      "  precision = tps / tp_fp.sum()\n"
     ]
    },
    {
     "name": "stdout",
     "output_type": "stream",
     "text": [
      "[EPOCH]: 6, [TRAIN LOSS]: 0.000232, [TRAIN ACCURACY]: 0.927\n",
      "[EPOCH]: 6, [VAL SCORES]: {'AP': 0.13153654517826585, 'mAP': 0.1415883968129868, 'Miou': 0.10472336148556395, 'Precision': 0.0, 'Recall': 0.0, 'F1': nan} \n",
      "\n"
     ]
    },
    {
     "name": "stderr",
     "output_type": "stream",
     "text": [
      "\\\\wsl$\\Ubuntu-20.04\\home\\jolteon\\eluvio_challenge\\evaluate_sceneseg.py:132: RuntimeWarning: invalid value encountered in double_scalars\n",
      "  fscore_dict[imdb_id] = 2 * p * r / (p + r)\n",
      "\\\\wsl$\\Ubuntu-20.04\\home\\jolteon\\eluvio_challenge\\evaluate_sceneseg.py:117: RuntimeWarning: invalid value encountered in long_scalars\n",
      "  precision = tps / tp_fp.sum()\n"
     ]
    },
    {
     "name": "stdout",
     "output_type": "stream",
     "text": [
      "[EPOCH]: 7, [TRAIN LOSS]: 0.000230, [TRAIN ACCURACY]: 0.928\n",
      "[EPOCH]: 7, [VAL SCORES]: {'AP': 0.13189719085611346, 'mAP': 0.144607246609279, 'Miou': 0.08981495773531868, 'Precision': 0.020833333333333332, 'Recall': 0.0007267441860465116, 'F1': nan} \n",
      "\n"
     ]
    },
    {
     "name": "stderr",
     "output_type": "stream",
     "text": [
      "\\\\wsl$\\Ubuntu-20.04\\home\\jolteon\\eluvio_challenge\\evaluate_sceneseg.py:132: RuntimeWarning: invalid value encountered in double_scalars\n",
      "  fscore_dict[imdb_id] = 2 * p * r / (p + r)\n"
     ]
    },
    {
     "name": "stdout",
     "output_type": "stream",
     "text": [
      "[EPOCH]: 8, [TRAIN LOSS]: 0.000228, [TRAIN ACCURACY]: 0.928\n",
      "[EPOCH]: 8, [VAL SCORES]: {'AP': 0.1254861422503589, 'mAP': 0.1350476659497955, 'Miou': 0.17100818866602224, 'Precision': 0.20967261904761902, 'Recall': 0.01268778953941444, 'F1': nan} \n",
      "\n"
     ]
    },
    {
     "name": "stderr",
     "output_type": "stream",
     "text": [
      "\\\\wsl$\\Ubuntu-20.04\\home\\jolteon\\eluvio_challenge\\evaluate_sceneseg.py:132: RuntimeWarning: invalid value encountered in double_scalars\n",
      "  fscore_dict[imdb_id] = 2 * p * r / (p + r)\n"
     ]
    },
    {
     "name": "stdout",
     "output_type": "stream",
     "text": [
      "[EPOCH]: 9, [TRAIN LOSS]: 0.000226, [TRAIN ACCURACY]: 0.929\n",
      "[EPOCH]: 9, [VAL SCORES]: {'AP': 0.1216672723827803, 'mAP': 0.13070574372778956, 'Miou': 0.18324330827121418, 'Precision': 0.12701330532212884, 'Recall': 0.008751959547343216, 'F1': nan} \n",
      "\n"
     ]
    },
    {
     "name": "stderr",
     "output_type": "stream",
     "text": [
      "\\\\wsl$\\Ubuntu-20.04\\home\\jolteon\\eluvio_challenge\\evaluate_sceneseg.py:132: RuntimeWarning: invalid value encountered in double_scalars\n",
      "  fscore_dict[imdb_id] = 2 * p * r / (p + r)\n",
      "\\\\wsl$\\Ubuntu-20.04\\home\\jolteon\\eluvio_challenge\\evaluate_sceneseg.py:117: RuntimeWarning: invalid value encountered in long_scalars\n",
      "  precision = tps / tp_fp.sum()\n"
     ]
    },
    {
     "name": "stdout",
     "output_type": "stream",
     "text": [
      "[EPOCH]: 10, [TRAIN LOSS]: 0.000224, [TRAIN ACCURACY]: 0.929\n",
      "[EPOCH]: 10, [VAL SCORES]: {'AP': 0.12167581602144009, 'mAP': 0.13171752689719066, 'Miou': 0.15673000744556842, 'Precision': 0.18344155844155843, 'Recall': 0.009121838504003131, 'F1': nan} \n",
      "\n"
     ]
    },
    {
     "name": "stderr",
     "output_type": "stream",
     "text": [
      "\\\\wsl$\\Ubuntu-20.04\\home\\jolteon\\eluvio_challenge\\evaluate_sceneseg.py:132: RuntimeWarning: invalid value encountered in double_scalars\n",
      "  fscore_dict[imdb_id] = 2 * p * r / (p + r)\n",
      "\\\\wsl$\\Ubuntu-20.04\\home\\jolteon\\eluvio_challenge\\evaluate_sceneseg.py:117: RuntimeWarning: invalid value encountered in long_scalars\n",
      "  precision = tps / tp_fp.sum()\n"
     ]
    },
    {
     "name": "stdout",
     "output_type": "stream",
     "text": [
      "[EPOCH]: 11, [TRAIN LOSS]: 0.000223, [TRAIN ACCURACY]: 0.929\n",
      "[EPOCH]: 11, [VAL SCORES]: {'AP': 0.11361153517307561, 'mAP': 0.12237815322090699, 'Miou': 0.13634774358776788, 'Precision': 0.1162202380952381, 'Recall': 0.005820715670561556, 'F1': nan} \n",
      "\n"
     ]
    },
    {
     "name": "stderr",
     "output_type": "stream",
     "text": [
      "\\\\wsl$\\Ubuntu-20.04\\home\\jolteon\\eluvio_challenge\\evaluate_sceneseg.py:132: RuntimeWarning: invalid value encountered in double_scalars\n",
      "  fscore_dict[imdb_id] = 2 * p * r / (p + r)\n"
     ]
    },
    {
     "name": "stdout",
     "output_type": "stream",
     "text": [
      "[EPOCH]: 12, [TRAIN LOSS]: 0.000221, [TRAIN ACCURACY]: 0.930\n",
      "[EPOCH]: 12, [VAL SCORES]: {'AP': 0.11343680617222153, 'mAP': 0.12379925618457985, 'Miou': 0.206508970068725, 'Precision': 0.1537336029983089, 'Recall': 0.02550193054797127, 'F1': nan} \n",
      "\n"
     ]
    },
    {
     "name": "stderr",
     "output_type": "stream",
     "text": [
      "\\\\wsl$\\Ubuntu-20.04\\home\\jolteon\\eluvio_challenge\\evaluate_sceneseg.py:132: RuntimeWarning: invalid value encountered in double_scalars\n",
      "  fscore_dict[imdb_id] = 2 * p * r / (p + r)\n",
      "\\\\wsl$\\Ubuntu-20.04\\home\\jolteon\\eluvio_challenge\\evaluate_sceneseg.py:117: RuntimeWarning: invalid value encountered in long_scalars\n",
      "  precision = tps / tp_fp.sum()\n"
     ]
    },
    {
     "name": "stdout",
     "output_type": "stream",
     "text": [
      "[EPOCH]: 13, [TRAIN LOSS]: 0.000219, [TRAIN ACCURACY]: 0.931\n",
      "[EPOCH]: 13, [VAL SCORES]: {'AP': 0.12139302607719016, 'mAP': 0.13094134527197454, 'Miou': 0.16130785509024628, 'Precision': 0.14479166666666668, 'Recall': 0.01088064661968539, 'F1': nan} \n",
      "\n"
     ]
    },
    {
     "name": "stderr",
     "output_type": "stream",
     "text": [
      "\\\\wsl$\\Ubuntu-20.04\\home\\jolteon\\eluvio_challenge\\evaluate_sceneseg.py:132: RuntimeWarning: invalid value encountered in double_scalars\n",
      "  fscore_dict[imdb_id] = 2 * p * r / (p + r)\n",
      "\\\\wsl$\\Ubuntu-20.04\\home\\jolteon\\eluvio_challenge\\evaluate_sceneseg.py:117: RuntimeWarning: invalid value encountered in long_scalars\n",
      "  precision = tps / tp_fp.sum()\n"
     ]
    },
    {
     "name": "stdout",
     "output_type": "stream",
     "text": [
      "[EPOCH]: 14, [TRAIN LOSS]: 0.000216, [TRAIN ACCURACY]: 0.931\n",
      "[EPOCH]: 14, [VAL SCORES]: {'AP': 0.11463750880340393, 'mAP': 0.12189908293381929, 'Miou': 0.11694514279218869, 'Precision': 0.03869047619047619, 'Recall': 0.002379414298018949, 'F1': nan} \n",
      "\n"
     ]
    },
    {
     "name": "stderr",
     "output_type": "stream",
     "text": [
      "\\\\wsl$\\Ubuntu-20.04\\home\\jolteon\\eluvio_challenge\\evaluate_sceneseg.py:132: RuntimeWarning: invalid value encountered in double_scalars\n",
      "  fscore_dict[imdb_id] = 2 * p * r / (p + r)\n",
      "\\\\wsl$\\Ubuntu-20.04\\home\\jolteon\\eluvio_challenge\\evaluate_sceneseg.py:117: RuntimeWarning: invalid value encountered in long_scalars\n",
      "  precision = tps / tp_fp.sum()\n"
     ]
    },
    {
     "name": "stdout",
     "output_type": "stream",
     "text": [
      "[EPOCH]: 15, [TRAIN LOSS]: 0.000214, [TRAIN ACCURACY]: 0.932\n",
      "[EPOCH]: 15, [VAL SCORES]: {'AP': 0.10791564053425057, 'mAP': 0.1164443504467277, 'Miou': 0.14548739134468786, 'Precision': 0.1388888888888889, 'Recall': 0.007158721963210884, 'F1': nan} \n",
      "\n"
     ]
    },
    {
     "name": "stderr",
     "output_type": "stream",
     "text": [
      "\\\\wsl$\\Ubuntu-20.04\\home\\jolteon\\eluvio_challenge\\evaluate_sceneseg.py:132: RuntimeWarning: invalid value encountered in double_scalars\n",
      "  fscore_dict[imdb_id] = 2 * p * r / (p + r)\n",
      "\\\\wsl$\\Ubuntu-20.04\\home\\jolteon\\eluvio_challenge\\evaluate_sceneseg.py:117: RuntimeWarning: invalid value encountered in long_scalars\n",
      "  precision = tps / tp_fp.sum()\n"
     ]
    },
    {
     "name": "stdout",
     "output_type": "stream",
     "text": [
      "[EPOCH]: 16, [TRAIN LOSS]: 0.000213, [TRAIN ACCURACY]: 0.932\n",
      "[EPOCH]: 16, [VAL SCORES]: {'AP': 0.11287234979838418, 'mAP': 0.12047558785008868, 'Miou': 0.15731212989537127, 'Precision': 0.16818910256410258, 'Recall': 0.007650296933564707, 'F1': nan} \n",
      "\n"
     ]
    },
    {
     "name": "stderr",
     "output_type": "stream",
     "text": [
      "\\\\wsl$\\Ubuntu-20.04\\home\\jolteon\\eluvio_challenge\\evaluate_sceneseg.py:132: RuntimeWarning: invalid value encountered in double_scalars\n",
      "  fscore_dict[imdb_id] = 2 * p * r / (p + r)\n",
      "\\\\wsl$\\Ubuntu-20.04\\home\\jolteon\\eluvio_challenge\\evaluate_sceneseg.py:117: RuntimeWarning: invalid value encountered in long_scalars\n",
      "  precision = tps / tp_fp.sum()\n"
     ]
    },
    {
     "name": "stdout",
     "output_type": "stream",
     "text": [
      "[EPOCH]: 17, [TRAIN LOSS]: 0.000211, [TRAIN ACCURACY]: 0.933\n",
      "[EPOCH]: 17, [VAL SCORES]: {'AP': 0.10972964588467975, 'mAP': 0.11763142013392791, 'Miou': 0.12322174137561377, 'Precision': 0.09375, 'Recall': 0.003904468764249886, 'F1': nan} \n",
      "\n"
     ]
    },
    {
     "name": "stderr",
     "output_type": "stream",
     "text": [
      "\\\\wsl$\\Ubuntu-20.04\\home\\jolteon\\eluvio_challenge\\evaluate_sceneseg.py:132: RuntimeWarning: invalid value encountered in double_scalars\n",
      "  fscore_dict[imdb_id] = 2 * p * r / (p + r)\n",
      "\\\\wsl$\\Ubuntu-20.04\\home\\jolteon\\eluvio_challenge\\evaluate_sceneseg.py:117: RuntimeWarning: invalid value encountered in long_scalars\n",
      "  precision = tps / tp_fp.sum()\n"
     ]
    },
    {
     "name": "stdout",
     "output_type": "stream",
     "text": [
      "[EPOCH]: 18, [TRAIN LOSS]: 0.000208, [TRAIN ACCURACY]: 0.934\n",
      "[EPOCH]: 18, [VAL SCORES]: {'AP': 0.1104479038315547, 'mAP': 0.1183369927441567, 'Miou': 0.17031203151451138, 'Precision': 0.11645299145299146, 'Recall': 0.007650296933564707, 'F1': nan} \n",
      "\n",
      "[EPOCH]: 19, [TRAIN LOSS]: 0.000207, [TRAIN ACCURACY]: 0.934\n",
      "[EPOCH]: 19, [VAL SCORES]: {'AP': 0.1125798448104446, 'mAP': 0.12052338936114486, 'Miou': 0.21145055288342338, 'Precision': 0.09680876987462665, 'Recall': 0.015351680892113292, 'F1': nan} \n",
      "\n"
     ]
    },
    {
     "name": "stderr",
     "output_type": "stream",
     "text": [
      "\\\\wsl$\\Ubuntu-20.04\\home\\jolteon\\eluvio_challenge\\evaluate_sceneseg.py:132: RuntimeWarning: invalid value encountered in double_scalars\n",
      "  fscore_dict[imdb_id] = 2 * p * r / (p + r)\n"
     ]
    }
   ],
   "source": [
    "train_losses = []\n",
    "train_accuracies = []\n",
    "\n",
    "scores_list=[]\n",
    "best_val_score=0\n",
    "for t in tqdm(range(num_epochs)):\n",
    "    model.train()\n",
    "    train_loss_per_epoch = 0\n",
    "    train_correct_per_epoch = 0\n",
    "    train_total = 0\n",
    "    for ii,batch in enumerate(train_loader):\n",
    "        #Put things into Cuda\n",
    "        place, cast, action, audio, target = batch\n",
    "        place = place.to(device)\n",
    "        cast = cast.to(device)\n",
    "        action = action.to(device)\n",
    "        audio = audio.to(device)\n",
    "        target = target.to(device)\n",
    "        embedding = place, cast, action, audio\n",
    "\n",
    "        #Forward Pass\n",
    "        out = model(embedding)\n",
    "        #Book keeping for prediction metrics\n",
    "        train_total += target.size(0)*target.size(1)\n",
    "        preds = out >.5\n",
    "\n",
    "        #Compute loss and accuracy\n",
    "        loss =criterion(out, target)\n",
    "        #Backward Pass\n",
    "        optimizer.zero_grad()\n",
    "        loss.backward()\n",
    "        optimizer.step()\n",
    "        #Keep Track of Accuracy and Loss\n",
    "        train_loss_per_epoch += loss.item()\n",
    "        train_correct_per_epoch += torch.sum(preds == target).item()\n",
    "    #End Train Loop\n",
    "    train_losses.append(train_loss_per_epoch/train_total) \n",
    "    train_accuracies.append(train_correct_per_epoch/train_total)\n",
    "    \n",
    "    #Start Val\n",
    "    model.eval()\n",
    "    with torch.no_grad():\n",
    "        # Do some engineering to get it into a format where we can use evaluate_sceneseg functions\n",
    "        gt_dict = dict()\n",
    "        pr_dict = dict()\n",
    "        shot_to_end_frame_dict = dict()\n",
    "        scores =dict()\n",
    "        for file in os.listdir(val_path):\n",
    "            if file.endswith('.pkl'):\n",
    "                with open(val_path+file, 'rb') as f:\n",
    "                    data = pickle.load(f)\n",
    "                predictions = generate_predictions(model,data,window_size,device)\n",
    "                \n",
    "                gt_dict[data['imdb_id']] = data[\"scene_transition_boundary_ground_truth\"].numpy().astype(float)\n",
    "                pr_dict[data['imdb_id']] = predictions\n",
    "                shot_to_end_frame_dict[data['imdb_id']] = data['shot_end_frame']\n",
    "\n",
    "\n",
    "        scores[\"AP\"], scores[\"mAP\"], _ = calc_ap(gt_dict, pr_dict)\n",
    "        scores[\"Miou\"], _ = calc_miou(gt_dict, pr_dict, shot_to_end_frame_dict)\n",
    "        scores[\"Precision\"], scores[\"Recall\"], scores[\"F1\"], *_ = calc_precision_recall(gt_dict, pr_dict)\n",
    "        \n",
    "    \n",
    "    # End Val Loop\n",
    "    scores_list.append(scores)\n",
    "    print(\"[EPOCH]: %i, [TRAIN LOSS]: %.6f, [TRAIN ACCURACY]: %.3f\" % (t, train_losses[-1], train_accuracies[-1]))\n",
    "    print(\"[EPOCH]: %i, [VAL SCORES]: %s \\n\" % (t,scores_list[-1]))\n",
    "    if scores_list[-1]['mAP'] > best_val_score:\n",
    "        best_val_score = scores_list[-1]['mAP']\n",
    "\n",
    "        # TODO: Save best model, optimizer, epoch_number\n",
    "        best_model_file = model_save_path+model_name+'_'+str(t)+'.ckpt'\n",
    "        torch.save(model.state_dict(), best_model_file)\n"
   ]
  },
  {
   "cell_type": "code",
   "execution_count": null,
   "id": "working-monday",
   "metadata": {},
   "outputs": [],
   "source": []
  },
  {
   "cell_type": "code",
   "execution_count": 42,
   "id": "level-module",
   "metadata": {},
   "outputs": [],
   "source": [
    "with open('Attention_scores', 'wb') as handle:\n",
    "    pickle.dump(scores_list, handle,)"
   ]
  },
  {
   "cell_type": "code",
   "execution_count": null,
   "id": "binding-anderson",
   "metadata": {},
   "outputs": [],
   "source": [
    "index_to_predictions_list"
   ]
  },
  {
   "cell_type": "code",
   "execution_count": 43,
   "id": "noble-booth",
   "metadata": {},
   "outputs": [],
   "source": [
    "ckpt_path = '/home/jolteon/eluvio_challenge/models/Attention_FC_Final.ckpt'\n",
    "test_dir = '/home/jolteon/eluvio_challenge/data/test/'\n",
    "output_dir = '/home/jolteon/eluvio_challenge/Attention_output/'\n",
    "\n",
    "model = BoundaryDetectorAttention(window_size=12)\n",
    "model.load_state_dict(torch.load(ckpt_path,))\n",
    "model.eval()\n",
    "generate_predictions_dir_NN(model,12,test_dir,output_dir,device)\n"
   ]
  },
  {
   "cell_type": "code",
   "execution_count": 24,
   "id": "aggressive-princeton",
   "metadata": {},
   "outputs": [
    {
     "name": "stdout",
     "output_type": "stream",
     "text": [
      "# of IMDB IDs: 8\n",
      "Scores: {\n",
      "    \"AP\": 0.3563740077987584,\n",
      "    \"mAP\": 0.37175532395490957,\n",
      "    \"Miou\": 0.3098844562627911,\n",
      "    \"Precision\": 0.7226293151293152,\n",
      "    \"Recall\": 0.09877458091669455,\n",
      "    \"F1\": 0.16799157518164576\n",
      "}\n"
     ]
    }
   ],
   "source": [
    "!python.exe evaluate_sceneseg.py FC_simple_output/"
   ]
  },
  {
   "cell_type": "code",
   "execution_count": 44,
   "id": "strong-swedish",
   "metadata": {},
   "outputs": [
    {
     "name": "stdout",
     "output_type": "stream",
     "text": [
      "# of IMDB IDs: 8\n",
      "Scores: {\n",
      "    \"AP\": 0.12271408528698208,\n",
      "    \"mAP\": 0.13798523838151633,\n",
      "    \"Miou\": 0.1693378531162345,\n",
      "    \"Precision\": 0.2514590672485409,\n",
      "    \"Recall\": 0.009354341066358218,\n",
      "    \"F1\": NaN\n",
      "}\n"
     ]
    },
    {
     "name": "stderr",
     "output_type": "stream",
     "text": [
      "Z:\\home\\jolteon\\eluvio_challenge\\evaluate_sceneseg.py:132: RuntimeWarning: invalid value encountered in double_scalars\n",
      "  fscore_dict[imdb_id] = 2 * p * r / (p + r)\n"
     ]
    }
   ],
   "source": [
    "!python.exe evaluate_sceneseg.py Attention_output/"
   ]
  },
  {
   "cell_type": "code",
   "execution_count": null,
   "id": "developmental-savage",
   "metadata": {},
   "outputs": [],
   "source": []
  },
  {
   "cell_type": "code",
   "execution_count": null,
   "id": "fourth-fabric",
   "metadata": {},
   "outputs": [],
   "source": []
  }
 ],
 "metadata": {
  "kernelspec": {
   "display_name": "Python 3",
   "language": "python",
   "name": "python3"
  },
  "language_info": {
   "codemirror_mode": {
    "name": "ipython",
    "version": 3
   },
   "file_extension": ".py",
   "mimetype": "text/x-python",
   "name": "python",
   "nbconvert_exporter": "python",
   "pygments_lexer": "ipython3",
   "version": "3.9.2"
  }
 },
 "nbformat": 4,
 "nbformat_minor": 5
}
